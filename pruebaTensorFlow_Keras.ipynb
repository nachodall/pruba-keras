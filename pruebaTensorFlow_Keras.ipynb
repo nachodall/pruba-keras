{
  "nbformat": 4,
  "nbformat_minor": 0,
  "metadata": {
    "colab": {
      "provenance": []
    },
    "kernelspec": {
      "name": "python3",
      "display_name": "Python 3"
    },
    "language_info": {
      "name": "python"
    }
  },
  "cells": [
    {
      "cell_type": "code",
      "source": [
        "pip install tensorflow"
      ],
      "metadata": {
        "colab": {
          "base_uri": "https://localhost:8080/"
        },
        "collapsed": true,
        "id": "0QjGIMe_tuz0",
        "outputId": "551c0d77-d68a-4048-a7ff-984bb2cc068a"
      },
      "execution_count": null,
      "outputs": [
        {
          "output_type": "stream",
          "name": "stdout",
          "text": [
            "Requirement already satisfied: tensorflow in /usr/local/lib/python3.10/dist-packages (2.17.0)\n",
            "Requirement already satisfied: absl-py>=1.0.0 in /usr/local/lib/python3.10/dist-packages (from tensorflow) (1.4.0)\n",
            "Requirement already satisfied: astunparse>=1.6.0 in /usr/local/lib/python3.10/dist-packages (from tensorflow) (1.6.3)\n",
            "Requirement already satisfied: flatbuffers>=24.3.25 in /usr/local/lib/python3.10/dist-packages (from tensorflow) (24.3.25)\n",
            "Requirement already satisfied: gast!=0.5.0,!=0.5.1,!=0.5.2,>=0.2.1 in /usr/local/lib/python3.10/dist-packages (from tensorflow) (0.6.0)\n",
            "Requirement already satisfied: google-pasta>=0.1.1 in /usr/local/lib/python3.10/dist-packages (from tensorflow) (0.2.0)\n",
            "Requirement already satisfied: h5py>=3.10.0 in /usr/local/lib/python3.10/dist-packages (from tensorflow) (3.11.0)\n",
            "Requirement already satisfied: libclang>=13.0.0 in /usr/local/lib/python3.10/dist-packages (from tensorflow) (18.1.1)\n",
            "Requirement already satisfied: ml-dtypes<0.5.0,>=0.3.1 in /usr/local/lib/python3.10/dist-packages (from tensorflow) (0.4.0)\n",
            "Requirement already satisfied: opt-einsum>=2.3.2 in /usr/local/lib/python3.10/dist-packages (from tensorflow) (3.3.0)\n",
            "Requirement already satisfied: packaging in /usr/local/lib/python3.10/dist-packages (from tensorflow) (24.1)\n",
            "Requirement already satisfied: protobuf!=4.21.0,!=4.21.1,!=4.21.2,!=4.21.3,!=4.21.4,!=4.21.5,<5.0.0dev,>=3.20.3 in /usr/local/lib/python3.10/dist-packages (from tensorflow) (3.20.3)\n",
            "Requirement already satisfied: requests<3,>=2.21.0 in /usr/local/lib/python3.10/dist-packages (from tensorflow) (2.31.0)\n",
            "Requirement already satisfied: setuptools in /usr/local/lib/python3.10/dist-packages (from tensorflow) (71.0.4)\n",
            "Requirement already satisfied: six>=1.12.0 in /usr/local/lib/python3.10/dist-packages (from tensorflow) (1.16.0)\n",
            "Requirement already satisfied: termcolor>=1.1.0 in /usr/local/lib/python3.10/dist-packages (from tensorflow) (2.4.0)\n",
            "Requirement already satisfied: typing-extensions>=3.6.6 in /usr/local/lib/python3.10/dist-packages (from tensorflow) (4.12.2)\n",
            "Requirement already satisfied: wrapt>=1.11.0 in /usr/local/lib/python3.10/dist-packages (from tensorflow) (1.16.0)\n",
            "Requirement already satisfied: grpcio<2.0,>=1.24.3 in /usr/local/lib/python3.10/dist-packages (from tensorflow) (1.64.1)\n",
            "Requirement already satisfied: tensorboard<2.18,>=2.17 in /usr/local/lib/python3.10/dist-packages (from tensorflow) (2.17.0)\n",
            "Requirement already satisfied: keras>=3.2.0 in /usr/local/lib/python3.10/dist-packages (from tensorflow) (3.4.1)\n",
            "Requirement already satisfied: tensorflow-io-gcs-filesystem>=0.23.1 in /usr/local/lib/python3.10/dist-packages (from tensorflow) (0.37.1)\n",
            "Requirement already satisfied: numpy<2.0.0,>=1.23.5 in /usr/local/lib/python3.10/dist-packages (from tensorflow) (1.26.4)\n",
            "Requirement already satisfied: wheel<1.0,>=0.23.0 in /usr/local/lib/python3.10/dist-packages (from astunparse>=1.6.0->tensorflow) (0.43.0)\n",
            "Requirement already satisfied: rich in /usr/local/lib/python3.10/dist-packages (from keras>=3.2.0->tensorflow) (13.7.1)\n",
            "Requirement already satisfied: namex in /usr/local/lib/python3.10/dist-packages (from keras>=3.2.0->tensorflow) (0.0.8)\n",
            "Requirement already satisfied: optree in /usr/local/lib/python3.10/dist-packages (from keras>=3.2.0->tensorflow) (0.12.1)\n",
            "Requirement already satisfied: charset-normalizer<4,>=2 in /usr/local/lib/python3.10/dist-packages (from requests<3,>=2.21.0->tensorflow) (3.3.2)\n",
            "Requirement already satisfied: idna<4,>=2.5 in /usr/local/lib/python3.10/dist-packages (from requests<3,>=2.21.0->tensorflow) (3.7)\n",
            "Requirement already satisfied: urllib3<3,>=1.21.1 in /usr/local/lib/python3.10/dist-packages (from requests<3,>=2.21.0->tensorflow) (2.0.7)\n",
            "Requirement already satisfied: certifi>=2017.4.17 in /usr/local/lib/python3.10/dist-packages (from requests<3,>=2.21.0->tensorflow) (2024.7.4)\n",
            "Requirement already satisfied: markdown>=2.6.8 in /usr/local/lib/python3.10/dist-packages (from tensorboard<2.18,>=2.17->tensorflow) (3.6)\n",
            "Requirement already satisfied: tensorboard-data-server<0.8.0,>=0.7.0 in /usr/local/lib/python3.10/dist-packages (from tensorboard<2.18,>=2.17->tensorflow) (0.7.2)\n",
            "Requirement already satisfied: werkzeug>=1.0.1 in /usr/local/lib/python3.10/dist-packages (from tensorboard<2.18,>=2.17->tensorflow) (3.0.3)\n",
            "Requirement already satisfied: MarkupSafe>=2.1.1 in /usr/local/lib/python3.10/dist-packages (from werkzeug>=1.0.1->tensorboard<2.18,>=2.17->tensorflow) (2.1.5)\n",
            "Requirement already satisfied: markdown-it-py>=2.2.0 in /usr/local/lib/python3.10/dist-packages (from rich->keras>=3.2.0->tensorflow) (3.0.0)\n",
            "Requirement already satisfied: pygments<3.0.0,>=2.13.0 in /usr/local/lib/python3.10/dist-packages (from rich->keras>=3.2.0->tensorflow) (2.16.1)\n",
            "Requirement already satisfied: mdurl~=0.1 in /usr/local/lib/python3.10/dist-packages (from markdown-it-py>=2.2.0->rich->keras>=3.2.0->tensorflow) (0.1.2)\n"
          ]
        }
      ]
    },
    {
      "cell_type": "code",
      "execution_count": 33,
      "metadata": {
        "id": "VB5EvKoQtXU5"
      },
      "outputs": [],
      "source": [
        "import numpy as np\n",
        "import matplotlib.pyplot as plt\n",
        "import tensorflow as tf\n",
        "from tensorflow.keras.datasets import mnist\n",
        "from tensorflow.keras.models import Sequential\n",
        "from tensorflow.keras.layers import Dense, Flatten\n",
        "from tensorflow.keras.utils import to_categorical\n",
        "from sklearn.metrics import confusion_matrix, classification_report"
      ]
    },
    {
      "cell_type": "markdown",
      "source": [
        "We use MNIST dataset for digit recognition, Sequential for constructing the model, to_categorical for binary vectors, flatten for converting inputs into vectors and Dense to set the hidden/output layers.\n"
      ],
      "metadata": {
        "id": "VBCwsgFeug-p"
      }
    },
    {
      "cell_type": "code",
      "source": [
        "# we load mnist data set\n",
        "(in_train, out_train), (in_test, out_test) = mnist.load_data()\n",
        "\n",
        "# normalize pixel values between 0 and 1\n",
        "def normalize_image(img):\n",
        "  return img/255.0\n",
        "\n",
        "in_train = normalize_image(in_train)\n",
        "in_test = normalize_image(in_test)"
      ],
      "metadata": {
        "id": "F8lky6OGuULR"
      },
      "execution_count": 34,
      "outputs": []
    },
    {
      "cell_type": "code",
      "source": [
        "# show size of images\n",
        "print(f'x_train shape: {in_train.shape}')  # (60000, 28, 28)\n",
        "print(f'y_train shape: {out_train.shape}')  # (60000,)\n",
        "print(f'x_test shape: {in_test.shape}')    # (10000, 28, 28)\n",
        "print(f'y_test shape: {out_test.shape}')    # (10000,)\n",
        "\n",
        "# print image\n",
        "plt.imshow(in_train[0], cmap='gray')\n",
        "plt.title(f'Label: {out_train[0]}')\n",
        "plt.show()"
      ],
      "metadata": {
        "colab": {
          "base_uri": "https://localhost:8080/",
          "height": 521
        },
        "id": "IixV00IgxGIZ",
        "outputId": "4219e3c9-1b58-4470-a392-7869b295af22"
      },
      "execution_count": 35,
      "outputs": [
        {
          "output_type": "stream",
          "name": "stdout",
          "text": [
            "x_train shape: (60000, 28, 28)\n",
            "y_train shape: (60000,)\n",
            "x_test shape: (10000, 28, 28)\n",
            "y_test shape: (10000,)\n"
          ]
        },
        {
          "output_type": "display_data",
          "data": {
            "text/plain": [
              "<Figure size 640x480 with 1 Axes>"
            ],
            "image/png": "[encoded data removed]"
          },
          "metadata": {}
        }
      ]
    },
    {
      "cell_type": "markdown",
      "source": [
        "Loss functions such as categorical_crossentropy usually espects the output layer activations to be in one-hot format. So for each class we got an array of 1 and 0 values. In our case we are using digit recognition from 0 to 9 so we have 10 arrays in the form of: [0,1,0,0,0,0,0,0,0,0] for 1, [0,1,0,0,0,0,0,0,1,0] for 9"
      ],
      "metadata": {
        "id": "Q9zwN2nSxtzR"
      }
    },
    {
      "cell_type": "code",
      "source": [
        "# 10 is the class number.\n",
        "def oneHot_converter(y):\n",
        "  return to_categorical(y,10)\n",
        "\n",
        "out_train = oneHot_converter(out_train)\n",
        "out_test = oneHot_converter(out_test)"
      ],
      "metadata": {
        "id": "7ve1Bf2xyFuA"
      },
      "execution_count": 36,
      "outputs": []
    },
    {
      "cell_type": "markdown",
      "source": [
        "Now we are going to create the model using Keras. We flatten the image pixels as a unidimensional array, going from 28x28 to 784, we set a hidden layer and our output layer.\n",
        "\n"
      ],
      "metadata": {
        "id": "ZLKiRSAvzYpw"
      }
    },
    {
      "cell_type": "code",
      "source": [
        "model = Sequential([\n",
        "    Flatten(input_shape=(28,28)), # flattening of the image\n",
        "    Dense(128, activation=\"relu\"), # hidden layer of 128 neurons using relu activation (relu(x) = max(0,x))\n",
        "    Dense(10, activation=\"softmax\") # output layer of 10 neurons using softmax activation\n",
        "])"
      ],
      "metadata": {
        "colab": {
          "base_uri": "https://localhost:8080/"
        },
        "id": "upZw1J9LzeJv",
        "outputId": "7b0132d7-e753-4f12-8694-e04fe566a961"
      },
      "execution_count": 37,
      "outputs": [
        {
          "output_type": "stream",
          "name": "stderr",
          "text": [
            "/usr/local/lib/python3.10/dist-packages/keras/src/layers/reshaping/flatten.py:37: UserWarning: Do not pass an `input_shape`/`input_dim` argument to a layer. When using Sequential models, prefer using an `Input(shape)` object as the first layer in the model instead.\n",
            "  super().__init__(**kwargs)\n"
          ]
        }
      ]
    },
    {
      "cell_type": "markdown",
      "source": [
        "For compiling our model, we need to set the optimizer (method using for re-set weights, calculating the gradient of the loss function), choose loss function and the metrics used for measuring how good is the model performing."
      ],
      "metadata": {
        "id": "OyUgVJ5A2FGw"
      }
    },
    {
      "cell_type": "code",
      "source": [
        "model.compile(\n",
        "    optimizer = \"adam\",\n",
        "    loss = \"categorical_crossentropy\",\n",
        "    metrics=[\"accuracy\"] # accuracy = correct predictions / total predictions\n",
        ")"
      ],
      "metadata": {
        "id": "VEDTNx_r1svf"
      },
      "execution_count": 38,
      "outputs": []
    },
    {
      "cell_type": "markdown",
      "source": [
        "Now we train our model setting some parameters."
      ],
      "metadata": {
        "id": "RSXduZrr23-H"
      }
    },
    {
      "cell_type": "code",
      "source": [
        "trained = model.fit(\n",
        "    in_train,\n",
        "    out_train,\n",
        "    epochs = 5, # the algorithm is gonna repeat the process of training the given data 5 times.\n",
        "    batch_size = 32, # quantity of inputs of each epoch\n",
        "    validation_split = 0.2 # split 20% of the data for validation\n",
        ")"
      ],
      "metadata": {
        "colab": {
          "base_uri": "https://localhost:8080/"
        },
        "id": "1ga3Iavi7gX1",
        "outputId": "7f60b645-925b-42eb-ce78-7d8d7d9bad0b"
      },
      "execution_count": 44,
      "outputs": [
        {
          "output_type": "stream",
          "name": "stdout",
          "text": [
            "Epoch 1/5\n",
            "\u001b[1m1500/1500\u001b[0m \u001b[32m━━━━━━━━━━━━━━━━━━━━\u001b[0m\u001b[37m\u001b[0m \u001b[1m6s\u001b[0m 4ms/step - accuracy: 0.9975 - loss: 0.0106 - val_accuracy: 0.9862 - val_loss: 0.0531\n",
            "Epoch 2/5\n",
            "\u001b[1m1500/1500\u001b[0m \u001b[32m━━━━━━━━━━━━━━━━━━━━\u001b[0m\u001b[37m\u001b[0m \u001b[1m5s\u001b[0m 3ms/step - accuracy: 0.9961 - loss: 0.0120 - val_accuracy: 0.9842 - val_loss: 0.0592\n",
            "Epoch 3/5\n",
            "\u001b[1m1500/1500\u001b[0m \u001b[32m━━━━━━━━━━━━━━━━━━━━\u001b[0m\u001b[37m\u001b[0m \u001b[1m9s\u001b[0m 6ms/step - accuracy: 0.9973 - loss: 0.0092 - val_accuracy: 0.9822 - val_loss: 0.0678\n",
            "Epoch 4/5\n",
            "\u001b[1m1500/1500\u001b[0m \u001b[32m━━━━━━━━━━━━━━━━━━━━\u001b[0m\u001b[37m\u001b[0m \u001b[1m13s\u001b[0m 8ms/step - accuracy: 0.9975 - loss: 0.0081 - val_accuracy: 0.9858 - val_loss: 0.0591\n",
            "Epoch 5/5\n",
            "\u001b[1m1500/1500\u001b[0m \u001b[32m━━━━━━━━━━━━━━━━━━━━\u001b[0m\u001b[37m\u001b[0m \u001b[1m15s\u001b[0m 4ms/step - accuracy: 0.9990 - loss: 0.0045 - val_accuracy: 0.9818 - val_loss: 0.0728\n"
          ]
        }
      ]
    },
    {
      "cell_type": "code",
      "source": [
        "test_loss, test_accuracy = model.evaluate(in_test, out_test) #calculate loss and accuracy\n",
        "print(f'Test Loss: {test_loss}')\n",
        "print(f'Test Accuracy: {test_accuracy}')\n"
      ],
      "metadata": {
        "colab": {
          "base_uri": "https://localhost:8080/"
        },
        "id": "uw7KrvqY-9g1",
        "outputId": "45301342-0a6e-44e6-e795-22f6cca51feb"
      },
      "execution_count": 43,
      "outputs": [
        {
          "output_type": "stream",
          "name": "stdout",
          "text": [
            "\u001b[1m313/313\u001b[0m \u001b[32m━━━━━━━━━━━━━━━━━━━━\u001b[0m\u001b[37m\u001b[0m \u001b[1m1s\u001b[0m 2ms/step - accuracy: 0.9728 - loss: 0.0977\n",
            "Test Loss: 0.0816684365272522\n",
            "Test Accuracy: 0.9768999814987183\n"
          ]
        }
      ]
    },
    {
      "cell_type": "code",
      "source": [
        "# get model predictions\n",
        "y_pred = np.argmax(model.predict(in_test), axis=1)\n",
        "y_true = np.argmax(out_test, axis=1)\n",
        "\n",
        "cm = confusion_matrix(y_true, y_pred) # calculate the confusion matrix\n",
        "print(\"Confusion Matrix:\\n\", cm)\n",
        "\n"
      ],
      "metadata": {
        "colab": {
          "base_uri": "https://localhost:8080/"
        },
        "id": "luaI3A8Z-9h2",
        "outputId": "2ec7b365-a4c5-4b7e-9045-18a8775d7ce4"
      },
      "execution_count": 45,
      "outputs": [
        {
          "output_type": "stream",
          "name": "stdout",
          "text": [
            "\u001b[1m313/313\u001b[0m \u001b[32m━━━━━━━━━━━━━━━━━━━━\u001b[0m\u001b[37m\u001b[0m \u001b[1m1s\u001b[0m 2ms/step\n",
            "Confusion Matrix:\n",
            " [[ 962    0    2    0    1    4    6    0    4    1]\n",
            " [   0 1122    5    1    0    0    1    4    1    1]\n",
            " [   2    0 1013    3    4    1    2    2    5    0]\n",
            " [   0    0    6  977    2    7    0    4    5    9]\n",
            " [   1    1    2    0  974    0    1    0    0    3]\n",
            " [   2    0    0    2    1  876    5    1    3    2]\n",
            " [   2    1    1    1    7    8  937    0    1    0]\n",
            " [   1    2   11    4    4    0    0  999    1    6]\n",
            " [   0    1    3    4    5   14    1    4  932   10]\n",
            " [   0    2    0    2   14    4    1    3    1  982]]\n"
          ]
        }
      ]
    },
    {
      "cell_type": "code",
      "source": [
        "# Seleccionar una imagen de prueba (por ejemplo, la primera imagen del conjunto de prueba)\n",
        "index = 2224\n",
        "image = in_test[index]\n",
        "true_label = np.argmax(out_test[index])  # output in one-hot format\n",
        "\n",
        "# make a prediction using our model\n",
        "prediction = model.predict(np.expand_dims(image, axis=0))  # add one dimension for the batch\n",
        "predicted_label = np.argmax(prediction)\n",
        "\n",
        "# visualize image and prediction\n",
        "plt.figure(figsize=(6, 3))\n",
        "\n",
        "# image\n",
        "plt.subplot(1, 2, 1)\n",
        "plt.imshow(image, cmap='gray')\n",
        "plt.title(f'Label: {true_label}')\n",
        "plt.axis('off')\n",
        "\n",
        "# prediction\n",
        "plt.subplot(1, 2, 2)\n",
        "plt.bar(range(10), prediction[0], tick_label=range(10))\n",
        "plt.title(f'Prediction: {predicted_label}')\n",
        "plt.xlabel('Class')\n",
        "plt.ylabel('Probability')\n",
        "\n",
        "plt.tight_layout()\n",
        "plt.show()\n"
      ],
      "metadata": {
        "colab": {
          "base_uri": "https://localhost:8080/",
          "height": 324
        },
        "id": "P4U8ss-xAokT",
        "outputId": "1e3bcc37-512d-46f6-bda5-20a1d5104f54"
      },
      "execution_count": 54,
      "outputs": [
        {
          "output_type": "stream",
          "name": "stdout",
          "text": [
            "\u001b[1m1/1\u001b[0m \u001b[32m━━━━━━━━━━━━━━━━━━━━\u001b[0m\u001b[37m\u001b[0m \u001b[1m0s\u001b[0m 35ms/step\n"
          ]
        },
        {
          "output_type": "display_data",
          "data": {
            "text/plain": [
              "<Figure size 600x300 with 2 Axes>"
            ],
            "image/png": "[encoded data removed]"
          },
          "metadata": {}
        }
      ]
    }
  ]
}